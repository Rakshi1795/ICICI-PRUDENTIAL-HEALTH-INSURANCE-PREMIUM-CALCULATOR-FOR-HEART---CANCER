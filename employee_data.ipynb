{
 "cells": [
  {
   "cell_type": "code",
   "execution_count": 1,
   "metadata": {},
   "outputs": [
    {
     "name": "stdout",
     "output_type": "stream",
     "text": [
      "Salaries less than 25000:\n",
      "22500\n",
      "19350\n",
      "10250\n",
      "15505\n"
     ]
    }
   ],
   "source": [
    "#Program to store and display salaries less than 25000:\n",
    "salaries = [22500, 50005, 45000, 19350, 25000, 10250, 15505]\n",
    "\n",
    "filtered_salaries = [salary for salary in salaries if salary < 25000]\n",
    "\n",
    "print(\"Salaries less than 25000:\")\n",
    "for salary in filtered_salaries:\n",
    "    print(salary)\n"
   ]
  },
  {
   "cell_type": "code",
   "execution_count": 2,
   "metadata": {},
   "outputs": [
    {
     "name": "stdout",
     "output_type": "stream",
     "text": [
      "Dear Rohit, your salary is 5000\n"
     ]
    }
   ],
   "source": [
    "#Program to fetch Rohit's salary:\n",
    "empl_salary = [2000, 4000, 5000, 6000, 6500, 5200]\n",
    "empl_name = ['Farhad', 'Shankar', 'Rohit', 'Astha', 'Shital', 'Abhishek']\n",
    "\n",
    "rohit_index = empl_name.index('Rohit')\n",
    "rohit_salary = empl_salary[rohit_index]\n",
    "\n",
    "print(\"Dear Rohit, your salary is\", rohit_salary)\n"
   ]
  },
  {
   "cell_type": "code",
   "execution_count": 1,
   "metadata": {},
   "outputs": [
    {
     "name": "stdout",
     "output_type": "stream",
     "text": [
      "Even numbers: [0, 2, 4, 6, 8, 10, 12, 14, 16, 18, 20, 22, 24, 26, 28, 30, 32, 34, 36, 38, 40, 42, 44, 46, 48, 50, 52, 54, 56, 58, 60, 62, 64, 66, 68, 70, 72, 74, 76, 78, 80, 82, 84, 86, 88, 90, 92, 94, 96, 98, 100, 102, 104, 106, 108, 110, 112, 114, 116, 118, 120, 122, 124, 126, 128, 130, 132, 134, 136, 138, 140, 142, 144, 146, 148, 150, 152, 154, 156, 158, 160, 162, 164, 166, 168, 170, 172, 174, 176, 178, 180, 182, 184, 186, 188, 190, 192, 194, 196, 198, 200]\n",
      "Odd numbers: [1, 3, 5, 7, 9, 11, 13, 15, 17, 19, 21, 23, 25, 27, 29, 31, 33, 35, 37, 39, 41, 43, 45, 47, 49, 51, 53, 55, 57, 59, 61, 63, 65, 67, 69, 71, 73, 75, 77, 79, 81, 83, 85, 87, 89, 91, 93, 95, 97, 99, 101, 103, 105, 107, 109, 111, 113, 115, 117, 119, 121, 123, 125, 127, 129, 131, 133, 135, 137, 139, 141, 143, 145, 147, 149, 151, 153, 155, 157, 159, 161, 163, 165, 167, 169, 171, 173, 175, 177, 179, 181, 183, 185, 187, 189, 191, 193, 195, 197, 199]\n"
     ]
    }
   ],
   "source": [
    "#Seperate odd and even numbers from 0 to 200:\n",
    "evens = [num for num in range(201) if num % 2 == 0]\n",
    "odds = [num for num in range(201) if num % 2 != 0]\n",
    "\n",
    "print(\"Even numbers:\", evens)\n",
    "print(\"Odd numbers:\", odds)\n"
   ]
  },
  {
   "cell_type": "code",
   "execution_count": 3,
   "metadata": {},
   "outputs": [
    {
     "name": "stdout",
     "output_type": "stream",
     "text": [
      "Your annual premium after 10% discount is Rs 27000.0\n"
     ]
    }
   ],
   "source": [
    "#Python code to calculate health premium\n",
    "def calculate_premium():\n",
    "    gender = input(\"Enter your gender (male/female): \").lower()\n",
    "    year_of_birth = int(input(\"Enter your year of birth: \"))\n",
    "    smoker = input(\"Are you a smoker? (yes/no): \").lower()\n",
    "\n",
    "    if gender == 'male':\n",
    "        if 1990 <= year_of_birth <= 2000:\n",
    "            if smoker == 'yes':\n",
    "                print(\"Your annual premium is Rs 35000\")\n",
    "            else:\n",
    "                discount = 0.1 * 35000\n",
    "                final_price = 35000 - discount\n",
    "                print(\"Your annual premium after 10% discount is Rs\", final_price)\n",
    "        elif 1970 <= year_of_birth < 1990:\n",
    "            if smoker == 'yes':\n",
    "                print(\"Your annual premium is Rs 40000\")\n",
    "            else:\n",
    "                discount = 0.05 * 40000\n",
    "                final_price = 40000 - discount\n",
    "                print(\"Your annual premium after 5% discount is Rs\", final_price)\n",
    "    elif gender == 'female':\n",
    "        if 1990 <= year_of_birth <= 2000:\n",
    "            if smoker == 'yes':\n",
    "                print(\"Your annual premium is Rs 30000\")\n",
    "            else:\n",
    "                discount = 0.1 * 30000\n",
    "                final_price = 30000 - discount\n",
    "                print(\"Your annual premium after 10% discount is Rs\", final_price)\n",
    "        elif 1970 <= year_of_birth < 1990:\n",
    "            if smoker == 'yes':\n",
    "                print(\"Your annual premium is Rs 35000\")\n",
    "            else:\n",
    "                discount = 0.05 * 35000\n",
    "                final_price = 35000 - discount\n",
    "                print(\"Your annual premium after 5% discount is Rs\", final_price)\n",
    "    else:\n",
    "        print(\"Invalid input!\")\n",
    "\n",
    "calculate_premium()\n"
   ]
  }
 ],
 "metadata": {
  "kernelspec": {
   "display_name": "Python 3 (ipykernel)",
   "language": "python",
   "name": "python3"
  },
  "language_info": {
   "codemirror_mode": {
    "name": "ipython",
    "version": 3
   },
   "file_extension": ".py",
   "mimetype": "text/x-python",
   "name": "python",
   "nbconvert_exporter": "python",
   "pygments_lexer": "ipython3",
   "version": "3.9.12"
  }
 },
 "nbformat": 4,
 "nbformat_minor": 2
}
